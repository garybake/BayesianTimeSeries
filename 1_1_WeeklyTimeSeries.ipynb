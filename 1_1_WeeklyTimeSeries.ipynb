{
 "cells": [
  {
   "cell_type": "markdown",
   "id": "peripheral-outreach",
   "metadata": {},
   "source": [
    "# Manning liveProject Beta-testing START: Time Series Forecasting with Bayesian Modeling Techniques"
   ]
  },
  {
   "cell_type": "markdown",
   "id": "short-scene",
   "metadata": {},
   "source": [
    "## 1. Data Manipulation: Forming a Weekly Time Series"
   ]
  },
  {
   "cell_type": "code",
   "execution_count": 4,
   "id": "extra-characterization",
   "metadata": {},
   "outputs": [],
   "source": [
    "import os\n",
    "\n",
    "import pandas as pd"
   ]
  },
  {
   "cell_type": "code",
   "execution_count": 5,
   "id": "geographic-proxy",
   "metadata": {},
   "outputs": [],
   "source": [
    "bookings_file = os.path.join('data', 'H1.csv')\n",
    "df = pd.read_csv(bookings_file)"
   ]
  },
  {
   "cell_type": "code",
   "execution_count": 6,
   "id": "temporal-lemon",
   "metadata": {},
   "outputs": [
    {
     "data": {
      "text/html": [
       "<div>\n",
       "<style scoped>\n",
       "    .dataframe tbody tr th:only-of-type {\n",
       "        vertical-align: middle;\n",
       "    }\n",
       "\n",
       "    .dataframe tbody tr th {\n",
       "        vertical-align: top;\n",
       "    }\n",
       "\n",
       "    .dataframe thead th {\n",
       "        text-align: right;\n",
       "    }\n",
       "</style>\n",
       "<table border=\"1\" class=\"dataframe\">\n",
       "  <thead>\n",
       "    <tr style=\"text-align: right;\">\n",
       "      <th></th>\n",
       "      <th>IsCanceled</th>\n",
       "      <th>LeadTime</th>\n",
       "      <th>ArrivalDateYear</th>\n",
       "      <th>ArrivalDateMonth</th>\n",
       "      <th>ArrivalDateWeekNumber</th>\n",
       "      <th>ArrivalDateDayOfMonth</th>\n",
       "      <th>StaysInWeekendNights</th>\n",
       "      <th>StaysInWeekNights</th>\n",
       "      <th>Adults</th>\n",
       "      <th>Children</th>\n",
       "      <th>...</th>\n",
       "      <th>DepositType</th>\n",
       "      <th>Agent</th>\n",
       "      <th>Company</th>\n",
       "      <th>DaysInWaitingList</th>\n",
       "      <th>CustomerType</th>\n",
       "      <th>ADR</th>\n",
       "      <th>RequiredCarParkingSpaces</th>\n",
       "      <th>TotalOfSpecialRequests</th>\n",
       "      <th>ReservationStatus</th>\n",
       "      <th>ReservationStatusDate</th>\n",
       "    </tr>\n",
       "  </thead>\n",
       "  <tbody>\n",
       "    <tr>\n",
       "      <th>0</th>\n",
       "      <td>0</td>\n",
       "      <td>342</td>\n",
       "      <td>2015</td>\n",
       "      <td>July</td>\n",
       "      <td>27</td>\n",
       "      <td>1</td>\n",
       "      <td>0</td>\n",
       "      <td>0</td>\n",
       "      <td>2</td>\n",
       "      <td>0</td>\n",
       "      <td>...</td>\n",
       "      <td>No Deposit</td>\n",
       "      <td>NULL</td>\n",
       "      <td>NULL</td>\n",
       "      <td>0</td>\n",
       "      <td>Transient</td>\n",
       "      <td>0.0</td>\n",
       "      <td>0</td>\n",
       "      <td>0</td>\n",
       "      <td>Check-Out</td>\n",
       "      <td>2015-07-01</td>\n",
       "    </tr>\n",
       "    <tr>\n",
       "      <th>1</th>\n",
       "      <td>0</td>\n",
       "      <td>737</td>\n",
       "      <td>2015</td>\n",
       "      <td>July</td>\n",
       "      <td>27</td>\n",
       "      <td>1</td>\n",
       "      <td>0</td>\n",
       "      <td>0</td>\n",
       "      <td>2</td>\n",
       "      <td>0</td>\n",
       "      <td>...</td>\n",
       "      <td>No Deposit</td>\n",
       "      <td>NULL</td>\n",
       "      <td>NULL</td>\n",
       "      <td>0</td>\n",
       "      <td>Transient</td>\n",
       "      <td>0.0</td>\n",
       "      <td>0</td>\n",
       "      <td>0</td>\n",
       "      <td>Check-Out</td>\n",
       "      <td>2015-07-01</td>\n",
       "    </tr>\n",
       "    <tr>\n",
       "      <th>2</th>\n",
       "      <td>0</td>\n",
       "      <td>7</td>\n",
       "      <td>2015</td>\n",
       "      <td>July</td>\n",
       "      <td>27</td>\n",
       "      <td>1</td>\n",
       "      <td>0</td>\n",
       "      <td>1</td>\n",
       "      <td>1</td>\n",
       "      <td>0</td>\n",
       "      <td>...</td>\n",
       "      <td>No Deposit</td>\n",
       "      <td>NULL</td>\n",
       "      <td>NULL</td>\n",
       "      <td>0</td>\n",
       "      <td>Transient</td>\n",
       "      <td>75.0</td>\n",
       "      <td>0</td>\n",
       "      <td>0</td>\n",
       "      <td>Check-Out</td>\n",
       "      <td>2015-07-02</td>\n",
       "    </tr>\n",
       "    <tr>\n",
       "      <th>3</th>\n",
       "      <td>0</td>\n",
       "      <td>13</td>\n",
       "      <td>2015</td>\n",
       "      <td>July</td>\n",
       "      <td>27</td>\n",
       "      <td>1</td>\n",
       "      <td>0</td>\n",
       "      <td>1</td>\n",
       "      <td>1</td>\n",
       "      <td>0</td>\n",
       "      <td>...</td>\n",
       "      <td>No Deposit</td>\n",
       "      <td>304</td>\n",
       "      <td>NULL</td>\n",
       "      <td>0</td>\n",
       "      <td>Transient</td>\n",
       "      <td>75.0</td>\n",
       "      <td>0</td>\n",
       "      <td>0</td>\n",
       "      <td>Check-Out</td>\n",
       "      <td>2015-07-02</td>\n",
       "    </tr>\n",
       "    <tr>\n",
       "      <th>4</th>\n",
       "      <td>0</td>\n",
       "      <td>14</td>\n",
       "      <td>2015</td>\n",
       "      <td>July</td>\n",
       "      <td>27</td>\n",
       "      <td>1</td>\n",
       "      <td>0</td>\n",
       "      <td>2</td>\n",
       "      <td>2</td>\n",
       "      <td>0</td>\n",
       "      <td>...</td>\n",
       "      <td>No Deposit</td>\n",
       "      <td>240</td>\n",
       "      <td>NULL</td>\n",
       "      <td>0</td>\n",
       "      <td>Transient</td>\n",
       "      <td>98.0</td>\n",
       "      <td>0</td>\n",
       "      <td>1</td>\n",
       "      <td>Check-Out</td>\n",
       "      <td>2015-07-03</td>\n",
       "    </tr>\n",
       "  </tbody>\n",
       "</table>\n",
       "<p>5 rows × 31 columns</p>\n",
       "</div>"
      ],
      "text/plain": [
       "   IsCanceled  LeadTime  ArrivalDateYear ArrivalDateMonth  \\\n",
       "0           0       342             2015             July   \n",
       "1           0       737             2015             July   \n",
       "2           0         7             2015             July   \n",
       "3           0        13             2015             July   \n",
       "4           0        14             2015             July   \n",
       "\n",
       "   ArrivalDateWeekNumber  ArrivalDateDayOfMonth  StaysInWeekendNights  \\\n",
       "0                     27                      1                     0   \n",
       "1                     27                      1                     0   \n",
       "2                     27                      1                     0   \n",
       "3                     27                      1                     0   \n",
       "4                     27                      1                     0   \n",
       "\n",
       "   StaysInWeekNights  Adults  Children  ...      DepositType        Agent  \\\n",
       "0                  0       2         0  ...  No Deposit              NULL   \n",
       "1                  0       2         0  ...  No Deposit              NULL   \n",
       "2                  1       1         0  ...  No Deposit              NULL   \n",
       "3                  1       1         0  ...  No Deposit               304   \n",
       "4                  2       2         0  ...  No Deposit               240   \n",
       "\n",
       "       Company DaysInWaitingList CustomerType   ADR  RequiredCarParkingSpaces  \\\n",
       "0         NULL                 0    Transient   0.0                         0   \n",
       "1         NULL                 0    Transient   0.0                         0   \n",
       "2         NULL                 0    Transient  75.0                         0   \n",
       "3         NULL                 0    Transient  75.0                         0   \n",
       "4         NULL                 0    Transient  98.0                         0   \n",
       "\n",
       "   TotalOfSpecialRequests ReservationStatus ReservationStatusDate  \n",
       "0                       0         Check-Out            2015-07-01  \n",
       "1                       0         Check-Out            2015-07-01  \n",
       "2                       0         Check-Out            2015-07-02  \n",
       "3                       0         Check-Out            2015-07-02  \n",
       "4                       1         Check-Out            2015-07-03  \n",
       "\n",
       "[5 rows x 31 columns]"
      ]
     },
     "execution_count": 6,
     "metadata": {},
     "output_type": "execute_result"
    }
   ],
   "source": [
    "df.head()"
   ]
  },
  {
   "cell_type": "code",
   "execution_count": 7,
   "id": "tender-undergraduate",
   "metadata": {},
   "outputs": [
    {
     "data": {
      "text/plain": [
       "Index(['IsCanceled', 'LeadTime', 'ArrivalDateYear', 'ArrivalDateMonth',\n",
       "       'ArrivalDateWeekNumber', 'ArrivalDateDayOfMonth',\n",
       "       'StaysInWeekendNights', 'StaysInWeekNights', 'Adults', 'Children',\n",
       "       'Babies', 'Meal', 'Country', 'MarketSegment', 'DistributionChannel',\n",
       "       'IsRepeatedGuest', 'PreviousCancellations',\n",
       "       'PreviousBookingsNotCanceled', 'ReservedRoomType', 'AssignedRoomType',\n",
       "       'BookingChanges', 'DepositType', 'Agent', 'Company',\n",
       "       'DaysInWaitingList', 'CustomerType', 'ADR', 'RequiredCarParkingSpaces',\n",
       "       'TotalOfSpecialRequests', 'ReservationStatus', 'ReservationStatusDate'],\n",
       "      dtype='object')"
      ]
     },
     "execution_count": 7,
     "metadata": {},
     "output_type": "execute_result"
    }
   ],
   "source": [
    "df.columns"
   ]
  },
  {
   "cell_type": "code",
   "execution_count": 13,
   "id": "equipped-visitor",
   "metadata": {},
   "outputs": [
    {
     "data": {
      "text/plain": [
       "(40060, 32)"
      ]
     },
     "execution_count": 13,
     "metadata": {},
     "output_type": "execute_result"
    }
   ],
   "source": [
    "df.shape"
   ]
  },
  {
   "cell_type": "code",
   "execution_count": 23,
   "id": "distant-tragedy",
   "metadata": {},
   "outputs": [
    {
     "data": {
      "text/plain": [
       "IsCanceled                       0\n",
       "LeadTime                         0\n",
       "ArrivalDateYear                  0\n",
       "ArrivalDateMonth                 0\n",
       "ArrivalDateWeekNumber            0\n",
       "ArrivalDateDayOfMonth            0\n",
       "StaysInWeekendNights             0\n",
       "StaysInWeekNights                0\n",
       "Adults                           0\n",
       "Children                         0\n",
       "Babies                           0\n",
       "Meal                             0\n",
       "Country                        464\n",
       "MarketSegment                    0\n",
       "DistributionChannel              0\n",
       "IsRepeatedGuest                  0\n",
       "PreviousCancellations            0\n",
       "PreviousBookingsNotCanceled      0\n",
       "ReservedRoomType                 0\n",
       "AssignedRoomType                 0\n",
       "BookingChanges                   0\n",
       "DepositType                      0\n",
       "Agent                            0\n",
       "Company                          0\n",
       "DaysInWaitingList                0\n",
       "CustomerType                     0\n",
       "ADR                              0\n",
       "RequiredCarParkingSpaces         0\n",
       "TotalOfSpecialRequests           0\n",
       "ReservationStatus                0\n",
       "ReservationStatusDate            0\n",
       "yr_week                          0\n",
       "dtype: int64"
      ]
     },
     "execution_count": 23,
     "metadata": {},
     "output_type": "execute_result"
    }
   ],
   "source": [
    "# Check for nulls\n",
    "len(df) - df.count()"
   ]
  },
  {
   "cell_type": "code",
   "execution_count": 20,
   "id": "objective-concentrate",
   "metadata": {},
   "outputs": [],
   "source": [
    "df['yr_week'] = df['ArrivalDateYear'].astype(str) + df['ArrivalDateWeekNumber'].astype(str)"
   ]
  },
  {
   "cell_type": "code",
   "execution_count": 24,
   "id": "gothic-messaging",
   "metadata": {},
   "outputs": [
    {
     "data": {
      "text/plain": [
       "0    201527\n",
       "1    201527\n",
       "2    201527\n",
       "3    201527\n",
       "4    201527\n",
       "Name: yr_week, dtype: object"
      ]
     },
     "execution_count": 24,
     "metadata": {},
     "output_type": "execute_result"
    }
   ],
   "source": [
    "df['yr_week'].head()"
   ]
  },
  {
   "cell_type": "code",
   "execution_count": 28,
   "id": "ruled-knight",
   "metadata": {},
   "outputs": [],
   "source": [
    "df_week_counts = df.groupby('yr_week')['IsCanceled']\\\n",
    "    .sum()\\\n",
    "    .reset_index()\\\n",
    "    .rename(columns={'yr_week': 'Date (Year and Week Number)'})"
   ]
  },
  {
   "cell_type": "code",
   "execution_count": 29,
   "id": "tutorial-youth",
   "metadata": {},
   "outputs": [
    {
     "data": {
      "text/html": [
       "<div>\n",
       "<style scoped>\n",
       "    .dataframe tbody tr th:only-of-type {\n",
       "        vertical-align: middle;\n",
       "    }\n",
       "\n",
       "    .dataframe tbody tr th {\n",
       "        vertical-align: top;\n",
       "    }\n",
       "\n",
       "    .dataframe thead th {\n",
       "        text-align: right;\n",
       "    }\n",
       "</style>\n",
       "<table border=\"1\" class=\"dataframe\">\n",
       "  <thead>\n",
       "    <tr style=\"text-align: right;\">\n",
       "      <th></th>\n",
       "      <th>Date (Year and Week Number)</th>\n",
       "      <th>IsCanceled</th>\n",
       "    </tr>\n",
       "  </thead>\n",
       "  <tbody>\n",
       "    <tr>\n",
       "      <th>0</th>\n",
       "      <td>201527</td>\n",
       "      <td>41</td>\n",
       "    </tr>\n",
       "    <tr>\n",
       "      <th>1</th>\n",
       "      <td>201528</td>\n",
       "      <td>48</td>\n",
       "    </tr>\n",
       "    <tr>\n",
       "      <th>2</th>\n",
       "      <td>201529</td>\n",
       "      <td>87</td>\n",
       "    </tr>\n",
       "    <tr>\n",
       "      <th>3</th>\n",
       "      <td>201530</td>\n",
       "      <td>74</td>\n",
       "    </tr>\n",
       "    <tr>\n",
       "      <th>4</th>\n",
       "      <td>201531</td>\n",
       "      <td>101</td>\n",
       "    </tr>\n",
       "    <tr>\n",
       "      <th>...</th>\n",
       "      <td>...</td>\n",
       "      <td>...</td>\n",
       "    </tr>\n",
       "    <tr>\n",
       "      <th>110</th>\n",
       "      <td>20175</td>\n",
       "      <td>51</td>\n",
       "    </tr>\n",
       "    <tr>\n",
       "      <th>111</th>\n",
       "      <td>20176</td>\n",
       "      <td>91</td>\n",
       "    </tr>\n",
       "    <tr>\n",
       "      <th>112</th>\n",
       "      <td>20177</td>\n",
       "      <td>96</td>\n",
       "    </tr>\n",
       "    <tr>\n",
       "      <th>113</th>\n",
       "      <td>20178</td>\n",
       "      <td>128</td>\n",
       "    </tr>\n",
       "    <tr>\n",
       "      <th>114</th>\n",
       "      <td>20179</td>\n",
       "      <td>77</td>\n",
       "    </tr>\n",
       "  </tbody>\n",
       "</table>\n",
       "<p>115 rows × 2 columns</p>\n",
       "</div>"
      ],
      "text/plain": [
       "    Date (Year and Week Number)  IsCanceled\n",
       "0                        201527          41\n",
       "1                        201528          48\n",
       "2                        201529          87\n",
       "3                        201530          74\n",
       "4                        201531         101\n",
       "..                          ...         ...\n",
       "110                       20175          51\n",
       "111                       20176          91\n",
       "112                       20177          96\n",
       "113                       20178         128\n",
       "114                       20179          77\n",
       "\n",
       "[115 rows x 2 columns]"
      ]
     },
     "execution_count": 29,
     "metadata": {},
     "output_type": "execute_result"
    }
   ],
   "source": [
    "df_week_counts"
   ]
  },
  {
   "cell_type": "code",
   "execution_count": null,
   "id": "flying-armstrong",
   "metadata": {},
   "outputs": [],
   "source": []
  }
 ],
 "metadata": {
  "kernelspec": {
   "display_name": "Python 3",
   "language": "python",
   "name": "python3"
  },
  "language_info": {
   "codemirror_mode": {
    "name": "ipython",
    "version": 3
   },
   "file_extension": ".py",
   "mimetype": "text/x-python",
   "name": "python",
   "nbconvert_exporter": "python",
   "pygments_lexer": "ipython3",
   "version": "3.6.9"
  }
 },
 "nbformat": 4,
 "nbformat_minor": 5
}
